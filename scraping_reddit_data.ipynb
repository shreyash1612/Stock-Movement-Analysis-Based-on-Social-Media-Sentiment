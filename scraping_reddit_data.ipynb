{
 "cells": [
  {
   "cell_type": "code",
   "execution_count": null,
   "metadata": {
    "colab": {
     "base_uri": "https://localhost:8080/"
    },
    "id": "_8PgGdqrABLW",
    "outputId": "6c4f1b76-08cb-4718-be31-8e56e0d7a8f4"
   },
   "outputs": [],
   "source": [
    "import praw\n",
    "import pandas as pd\n",
    "from datetime import datetime\n",
    "import time\n",
    "\n",
    "client_id = \"AzI0ZIny0PId1YuKQ\"\n",
    "client_secret = \"yhmWShKO5sHsgxBatvVdh1BhTg\"\n",
    "user_agent = \"Data Extraction Script\"\n",
    "\n",
    "reddit = praw.Reddit(client_id=client_id,\n",
    "                     client_secret=client_secret,\n",
    "                     user_agent=user_agent)\n",
    "\n",
    "def convert_timestamp(timestamp):\n",
    "    return datetime.fromtimestamp(timestamp).strftime('%Y-%m-%d %H:%M')\n",
    "\n",
    "def scrape_subreddits_with_comments(subreddits, keyword, post_limit_per_subreddit, sleep_time=2):\n",
    "    posts_data = []\n",
    "\n",
    "    for subreddit_name in subreddits:\n",
    "        subreddit = reddit.subreddit(subreddit_name)\n",
    "        print(f\"Searching in subreddit: {subreddit_name}...\")\n",
    "\n",
    "        for idx, submission in enumerate(subreddit.search(keyword, limit=post_limit_per_subreddit), start=1):\n",
    "            post_id = submission.id\n",
    "            post_datetime = convert_timestamp(submission.created_utc)\n",
    "            post_content = f\"Post: {submission.title}\\n\\n{submission.selftext}\"\n",
    "\n",
    "            submission.comment_sort = \"top\" \n",
    "            submission.comments.replace_more(limit=0)  \n",
    "            top_comments = [comment.body for comment in submission.comments[:5]] \n",
    "\n",
    "            discussion_content = f\"{post_content}\\n\\nTop Comments:\\n\" + \"\\n\".join(\n",
    "                [f\"{i + 1}. {comment}\" for i, comment in enumerate(top_comments)]\n",
    "            )\n",
    "\n",
    "            posts_data.append({\n",
    "                \"ID\": post_id,\n",
    "                \"Subreddit\": subreddit_name,\n",
    "                \"Discussion\": discussion_content,\n",
    "                \"Datetime\": post_datetime\n",
    "            })\n",
    "\n",
    "            if idx % 50 == 0:\n",
    "                print(f\"Processed {idx} posts from {subreddit_name}, pausing for {sleep_time} seconds...\")\n",
    "                time.sleep(sleep_time)\n",
    "\n",
    "    return posts_data\n",
    "\n",
    "\n",
    "subreddits_to_search = [\n",
    "    \"wallstreetbets\",\n",
    "    \"stocks\",\n",
    "    \"investing\",\n",
    "    \"finance\",\n",
    "    \"cryptocurrency\",\n",
    "    \"personalfinance\"]\n",
    "\n",
    "\n",
    "search_keyword = \"AMD\"\n",
    "\n",
    "post_limit_per_subreddit = 200 \n",
    "data = scrape_subreddits_with_comments(subreddits_to_search, search_keyword, post_limit_per_subreddit)\n",
    "df = pd.DataFrame(data)\n",
    "\n",
    "\n",
    "output_file = \"reddit_stock_keyword_posts_with_comments.csv\"\n",
    "df.to_csv(output_file, index=False)\n",
    "print(f\"Data successfully saved to {output_file}\")\n"
   ]
  },
  {
   "cell_type": "code",
   "execution_count": null,
   "metadata": {
    "colab": {
     "base_uri": "https://localhost:8080/",
     "height": 17
    },
    "id": "xZ7ioSsCxEB-",
    "outputId": "c5a41a98-ae87-4fc3-a41b-9f1458c03e8c"
   },
   "outputs": [],
   "source": [
    "from google.colab import files\n",
    "files.download(\".csv\")\n"
   ]
  }
 ],
 "metadata": {
  "colab": {
   "provenance": []
  },
  "kernelspec": {
   "display_name": "Python 3",
   "name": "python3"
  },
  "language_info": {
   "codemirror_mode": {
    "name": "ipython",
    "version": 3
   },
   "file_extension": ".py",
   "mimetype": "text/x-python",
   "name": "python",
   "nbconvert_exporter": "python",
   "pygments_lexer": "ipython3",
   "version": "3.12.6"
  }
 },
 "nbformat": 4,
 "nbformat_minor": 0
}
